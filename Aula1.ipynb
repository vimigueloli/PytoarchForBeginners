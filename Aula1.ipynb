{
  "nbformat": 4,
  "nbformat_minor": 0,
  "metadata": {
    "colab": {
      "name": "PytorchForBeginners",
      "provenance": [],
      "collapsed_sections": []
    },
    "kernelspec": {
      "name": "python3",
      "display_name": "Python 3"
    },
    "language_info": {
      "name": "python"
    },
    "accelerator": "GPU"
  },
  "cells": [
    {
      "cell_type": "markdown",
      "metadata": {
        "id": "YzK8f6lc3VEA"
      },
      "source": [
        "Introdução ao framework Pytorch! "
      ]
    },
    {
      "cell_type": "code",
      "metadata": {
        "colab": {
          "base_uri": "https://localhost:8080/"
        },
        "id": "zzccJj-V3sT3",
        "outputId": "e7dc629c-8bc5-4708-eadf-4c2d4c0adc8c"
      },
      "source": [
        "## Importação da biblioteca\n",
        "import torch\n",
        "\n",
        "## oque Tensores são?\n",
        "## É o equivalente matemático a uma matriz\n",
        "\n",
        "lista = [[1,2,3],\n",
        "         [4,5,6]]\n",
        "\n",
        "tensor = torch.tensor(lista)\n",
        "\n",
        "print(lista)\n",
        "print('-----------------------------------------------------------')\n",
        "print(tensor)"
      ],
      "execution_count": 7,
      "outputs": [
        {
          "output_type": "stream",
          "name": "stdout",
          "text": [
            "[[1, 2, 3], [4, 5, 6]]\n",
            "-----------------------------------------------------------\n",
            "tensor([[1, 2, 3],\n",
            "        [4, 5, 6]])\n"
          ]
        }
      ]
    },
    {
      "cell_type": "code",
      "metadata": {
        "colab": {
          "base_uri": "https://localhost:8080/"
        },
        "id": "WEb9aje_8b4c",
        "outputId": "b2214c74-e80d-45f9-ff4b-721988d63988"
      },
      "source": [
        "## Padrões de tipos dos tensores mais utilizados\n",
        "\n",
        "lista = [[1,2,3],\n",
        "         [4,5,6]]\n",
        "\n",
        "tensor = torch.DoubleTensor(lista)\n",
        "print(tensor.dtype)\n",
        "tensor = torch.LongTensor(lista)\n",
        "print(tensor.dtype)\n",
        "tensor = torch.FloatTensor(lista)\n",
        "print(tensor.dtype)"
      ],
      "execution_count": 6,
      "outputs": [
        {
          "output_type": "stream",
          "name": "stdout",
          "text": [
            "torch.float64\n",
            "torch.int64\n",
            "torch.float32\n"
          ]
        }
      ]
    },
    {
      "cell_type": "code",
      "metadata": {
        "colab": {
          "base_uri": "https://localhost:8080/"
        },
        "id": "rB6p29z5-1EU",
        "outputId": "7e27d17e-f553-461c-e2ad-374fd64f1cd1"
      },
      "source": [
        "## gerando tensores\n",
        "\n",
        "## tensor cheio de 0\n",
        "tensor0 = torch.zeros(2,2)\n",
        "\n",
        "## tensor cheio de 1\n",
        "tensor1 = torch.ones(2,2)\n",
        "\n",
        "## tensor aleatório\n",
        "randonTensor = torch.rand(2,2)\n",
        "\n",
        "print(tensor0)\n",
        "print('-------------------------------')\n",
        "print(tensor1)\n",
        "print('-------------------------------')\n",
        "print(randonTensor)\n",
        "print('-------------------------------')"
      ],
      "execution_count": 17,
      "outputs": [
        {
          "output_type": "stream",
          "name": "stdout",
          "text": [
            "tensor([[0., 0.],\n",
            "        [0., 0.]])\n",
            "-------------------------------\n",
            "tensor([[1., 1.],\n",
            "        [1., 1.]])\n",
            "-------------------------------\n",
            "tensor([[0.0327, 0.5574],\n",
            "        [0.4200, 0.0269]])\n",
            "-------------------------------\n"
          ]
        }
      ]
    },
    {
      "cell_type": "code",
      "metadata": {
        "colab": {
          "base_uri": "https://localhost:8080/"
        },
        "id": "rgqrhB8N8g2w",
        "outputId": "c6c2420b-ba2d-4dc3-c461-2b6bba48e47d"
      },
      "source": [
        "## É possivel criar tensores a partir de arrays Numpy\n",
        "import numpy as np\n",
        "\n",
        "## gerando array aleatório Numpy\n",
        "array = np.random.rand(5,5)\n",
        "\n",
        "## convertendo array Numpy para tensor\n",
        "tensor = torch.from_numpy(array)\n",
        "\n",
        "print(type(array))\n",
        "print(type(tensor))"
      ],
      "execution_count": 22,
      "outputs": [
        {
          "output_type": "stream",
          "name": "stdout",
          "text": [
            "<class 'numpy.ndarray'>\n",
            "<class 'torch.Tensor'>\n"
          ]
        }
      ]
    },
    {
      "cell_type": "code",
      "metadata": {
        "colab": {
          "base_uri": "https://localhost:8080/"
        },
        "id": "q951l6xuAVxw",
        "outputId": "47c2f6b5-dd62-458d-9e13-87c2b7d6ff8e"
      },
      "source": [
        "## Assim como é possivel converter tensores para arrays Numpy\n",
        "\n",
        "tensor = torch.ones(2,2)\n",
        "\n",
        "array = tensor.data.numpy()\n",
        "\n",
        "print(type(tensor))\n",
        "print(type(array))"
      ],
      "execution_count": 21,
      "outputs": [
        {
          "output_type": "stream",
          "name": "stdout",
          "text": [
            "<class 'torch.Tensor'>\n",
            "<class 'numpy.ndarray'>\n"
          ]
        }
      ]
    },
    {
      "cell_type": "code",
      "metadata": {
        "colab": {
          "base_uri": "https://localhost:8080/"
        },
        "id": "dprQ_ku9BR3e",
        "outputId": "5840d4e0-ae29-4616-c5d4-be092302f4f1"
      },
      "source": [
        "## Acessando e modificando itens de um tensor\n",
        "\n",
        "tensor = torch.ones(3,3)\n",
        "\n",
        "print('antes da alteração')\n",
        "print(tensor)\n",
        "print('')\n",
        "\n",
        "## alterando 1 elemento\n",
        "tensor[1,1] = 0\n",
        "\n",
        "print('1 elemento alterado')\n",
        "print(tensor)\n",
        "print('')\n",
        "\n",
        "## alterando 1 linha\n",
        "tensor[0:1] = 0\n",
        "\n",
        "print('1 linha alterada')\n",
        "print(tensor)\n",
        "print('')\n",
        "\n",
        "## alterando 1 coluna\n",
        "tensor[:,1] = 2\n",
        "\n",
        "print('1 coluna alterada')\n",
        "print(tensor)\n",
        "\n"
      ],
      "execution_count": 27,
      "outputs": [
        {
          "output_type": "stream",
          "name": "stdout",
          "text": [
            "antes da alteração\n",
            "tensor([[1., 1., 1.],\n",
            "        [1., 1., 1.],\n",
            "        [1., 1., 1.]])\n",
            "\n",
            "1 elemento alterado\n",
            "tensor([[1., 1., 1.],\n",
            "        [1., 0., 1.],\n",
            "        [1., 1., 1.]])\n",
            "\n",
            "1 linha alterada\n",
            "tensor([[0., 0., 0.],\n",
            "        [1., 0., 1.],\n",
            "        [1., 1., 1.]])\n",
            "\n",
            "1 coluna alterada\n",
            "tensor([[0., 2., 0.],\n",
            "        [1., 2., 1.],\n",
            "        [1., 2., 1.]])\n"
          ]
        }
      ]
    },
    {
      "cell_type": "code",
      "metadata": {
        "colab": {
          "base_uri": "https://localhost:8080/"
        },
        "id": "lyNRIr5pBVD7",
        "outputId": "935e49ba-3f52-46cf-f7c0-8fa7b0199acc"
      },
      "source": [
        "## Equações entre tensores\n",
        "\n",
        "tensorA = torch.ones(2,2)\n",
        "tensorB = torch.tensor([[0,1],\n",
        "                        [2,3]])\n",
        "print('A')\n",
        "print(tensorA)\n",
        "print('')\n",
        "print('B')\n",
        "print(tensorB)\n",
        "print('')\n",
        "\n",
        "\n",
        "## As equações são feitas com os elementos que tem sua respectiva posição em outro tensor \n",
        "## por isso é importante ressaltar que os tensores devem ter a mesma dimensão\n",
        "print('A x B')\n",
        "print(tensorA*tensorB)"
      ],
      "execution_count": 34,
      "outputs": [
        {
          "output_type": "stream",
          "name": "stdout",
          "text": [
            "A\n",
            "tensor([[1., 1.],\n",
            "        [1., 1.]])\n",
            "\n",
            "B\n",
            "tensor([[0, 1],\n",
            "        [2, 3]])\n",
            "\n",
            "A x B\n",
            "tensor([[0., 1.],\n",
            "        [2., 3.]])\n"
          ]
        }
      ]
    },
    {
      "cell_type": "code",
      "metadata": {
        "colab": {
          "base_uri": "https://localhost:8080/"
        },
        "id": "bOlOffx2D_nE",
        "outputId": "7b48c9db-e6be-44bf-e1eb-8d8327dfdde8"
      },
      "source": [
        "## Dimensões\n",
        "\n",
        "tensor = torch.ones(2,2,3)\n",
        "\n",
        "print('Tensor')\n",
        "print(tensor)\n",
        "print('')\n",
        "print('Dimensão')\n",
        "\n",
        "## Consultando a dimensão do tensor\n",
        "print(tensor.size())\n",
        "print('')\n",
        "print('')\n",
        "\n",
        "## Redimensionando o tensor\n",
        "tensor = tensor.view(4,3)\n",
        "\n",
        "print('Tensor redimensionado')\n",
        "print(tensor)\n",
        "print('')\n",
        "print('Dimensão nova')\n",
        "print(tensor.size())\n",
        "print('')\n",
        "print('')\n",
        "\n",
        "## Redimensionando achatado\n",
        "tensor = tensor.view(-1)\n",
        "\n",
        "print('Tensor achatado (colocado em uma unica linha)')\n",
        "print(tensor)\n",
        "print('')\n",
        "print('Dimensão nova')\n",
        "print(tensor.size())\n",
        "print('')\n",
        "print('')\n",
        "\n",
        "\n"
      ],
      "execution_count": 39,
      "outputs": [
        {
          "output_type": "stream",
          "name": "stdout",
          "text": [
            "Tensor\n",
            "tensor([[[1., 1., 1.],\n",
            "         [1., 1., 1.]],\n",
            "\n",
            "        [[1., 1., 1.],\n",
            "         [1., 1., 1.]]])\n",
            "\n",
            "Dimensão\n",
            "torch.Size([2, 2, 3])\n",
            "\n",
            "\n",
            "Tensor redimensionado\n",
            "tensor([[1., 1., 1.],\n",
            "        [1., 1., 1.],\n",
            "        [1., 1., 1.],\n",
            "        [1., 1., 1.]])\n",
            "\n",
            "Dimensão nova\n",
            "torch.Size([4, 3])\n",
            "\n",
            "\n",
            "Tensor achatado (colocado em uma unica linha)\n",
            "tensor([1., 1., 1., 1., 1., 1., 1., 1., 1., 1., 1., 1.])\n",
            "\n",
            "Dimensão nova\n",
            "torch.Size([12])\n",
            "\n",
            "\n"
          ]
        }
      ]
    },
    {
      "cell_type": "code",
      "metadata": {
        "colab": {
          "base_uri": "https://localhost:8080/"
        },
        "id": "vlOT2sj-GUkv",
        "outputId": "786a78c8-b379-41cd-e6e5-f66418ddb13a"
      },
      "source": [
        "## definindo o hardware que vai ser utilizado\n",
        "import torch\n",
        "\n",
        "tensor = torch.ones(5,5)\n",
        "\n",
        "##verifica se a GPU está disponível para uso \n",
        "if torch.cuda.is_available():\n",
        "  device = torch.device('cuda')\n",
        "else:\n",
        "  device = torch.device('cpu')\n",
        "\n",
        "##coloca o tensor na GPU\n",
        "tensor = tensor.to(device)\n",
        "\n",
        "print(tensor)\n",
        "print('')\n",
        "print(device)"
      ],
      "execution_count": 3,
      "outputs": [
        {
          "output_type": "stream",
          "name": "stdout",
          "text": [
            "tensor([[1., 1., 1., 1., 1.],\n",
            "        [1., 1., 1., 1., 1.],\n",
            "        [1., 1., 1., 1., 1.],\n",
            "        [1., 1., 1., 1., 1.],\n",
            "        [1., 1., 1., 1., 1.]], device='cuda:0')\n",
            "\n",
            "cuda\n"
          ]
        }
      ]
    }
  ]
}